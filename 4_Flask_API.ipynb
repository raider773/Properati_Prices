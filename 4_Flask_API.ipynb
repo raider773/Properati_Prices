{
 "cells": [
  {
   "cell_type": "markdown",
   "id": "mature-stage",
   "metadata": {},
   "source": [
    "This is the deployment for my model. When the data enters, i scale the data, predict the kmeans clsuter and add the clsuters as the new feature.\\\n",
    "Finally i used the model i choose, make the prediction and return the value."
   ]
  },
  {
   "cell_type": "code",
   "execution_count": 1,
   "id": "automotive-spider",
   "metadata": {},
   "outputs": [],
   "source": [
    "import pandas as pd\n",
    "import numpy as np\n",
    "import json\n",
    "import pickle\n",
    "from flask import  Flask, request, jsonify, render_template"
   ]
  },
  {
   "cell_type": "code",
   "execution_count": 2,
   "id": "sealed-torture",
   "metadata": {},
   "outputs": [],
   "source": [
    "app = Flask('Price')"
   ]
  },
  {
   "cell_type": "code",
   "execution_count": 3,
   "id": "peripheral-firewall",
   "metadata": {},
   "outputs": [],
   "source": [
    "@app.route('/api',methods=['POST'])\n",
    "def price():    \n",
    "    data = request.get_json(force=True)   \n",
    "    data = np.array(data['features'][0]).reshape(1, -1)\n",
    "    \n",
    "    import pickle\n",
    "    with open('model_scaler.pkl', 'rb') as f_scaler:\n",
    "        scaler = pickle.load(f_scaler)  \n",
    "    with open('model_kmeans.pkl', 'rb') as f_kmeans:\n",
    "        kmeans = pickle.load(f_kmeans)\n",
    "    \n",
    "    \n",
    "    std_X = scaler.fit_transform(data) \n",
    "    data = np.append(data[0],kmeans.predict(std_X))\n",
    "    data = np.array(data).reshape(1, -1)\n",
    "    \n",
    "    \n",
    "    \n",
    "    with open('model_rf.pkl', 'rb') as f_model:\n",
    "        modelo = pickle.load(f_model)   \n",
    "    \n",
    "    prediction = modelo.predict(data)  \n",
    "    \n",
    "    return(str(prediction[0]))    \n",
    "   "
   ]
  },
  {
   "cell_type": "code",
   "execution_count": 4,
   "id": "interstate-transition",
   "metadata": {},
   "outputs": [
    {
     "name": "stdout",
     "output_type": "stream",
     "text": [
      " * Serving Flask app \"Price\" (lazy loading)\n",
      " * Environment: production\n",
      "   WARNING: This is a development server. Do not use it in a production deployment.\n",
      "   Use a production WSGI server instead.\n",
      " * Debug mode: off\n"
     ]
    },
    {
     "name": "stderr",
     "output_type": "stream",
     "text": [
      " * Running on http://0.0.0.0:5000/ (Press CTRL+C to quit)\n",
      "127.0.0.1 - - [12/May/2021 19:09:56] \"\u001b[33mGET / HTTP/1.1\u001b[0m\" 404 -\n",
      "127.0.0.1 - - [12/May/2021 19:09:56] \"\u001b[33mGET /favicon.ico HTTP/1.1\u001b[0m\" 404 -\n"
     ]
    }
   ],
   "source": [
    "app.run(host='0.0.0.0')"
   ]
  }
 ],
 "metadata": {
  "kernelspec": {
   "display_name": "Python 3",
   "language": "python",
   "name": "python3"
  },
  "language_info": {
   "codemirror_mode": {
    "name": "ipython",
    "version": 3
   },
   "file_extension": ".py",
   "mimetype": "text/x-python",
   "name": "python",
   "nbconvert_exporter": "python",
   "pygments_lexer": "ipython3",
   "version": "3.7.10"
  }
 },
 "nbformat": 4,
 "nbformat_minor": 5
}
