{
 "cells": [
  {
   "cell_type": "markdown",
   "metadata": {},
   "source": [
    "<a id = \"division_ID\"></a>"
   ]
  },
  {
   "cell_type": "markdown",
   "metadata": {},
   "source": [
    "# Properati Project\n",
    "\n",
    "This project was part of my final work done for Digital House bootcamp. The only rule for the project as to apply all the concepts we learned (when nessesary of course) in a dataset that is somewhat complex. Not a titanic dataset for example, but something that challenges you.\n",
    "\n",
    "I've decided to use a dataset of Properati to predict the prices of houses in my city. At the moment of this project i was looking for a new place to live in Capital Federal, Argentina, so i find it quite intresting to do my project regarding this matter. I was curious as of what determines the prices of houses in this city, as well as see how much the price affects other variables, for example the length of the description or the most common words used in the titles, etc.\n",
    "\n",
    "The project is divided into five notebooks :\n",
    "- The first notebook is about preparing the data for further analysis. The dataset has a lot of nulls and outliers, so i tried to fix this issues.\n",
    "- The second notebook is the analysis of the data. I made some plots that i think represent the data well.\n",
    "- In the third notebook i divided the observations into clusters and add this clusters as features, and then trained different models.\n",
    "- In the fourth notebook i created a Flask API to implement my model. The api transforms the data and returns the price prediction.\n",
    "- The last notebook is just the the test for the API, making requests with different features and getting the prediction."
   ]
  },
  {
   "cell_type": "markdown",
   "metadata": {},
   "source": [
    "<a id = \"menu\"></a>\n",
    "\n",
    "\n",
    "1. [Brief Description of Dataset](#infobasica)\n",
    "\n",
    "\n",
    "2. [Fixing USD Prices Issues](#fillnull)\\\n",
    "&emsp; [Merging Palermos](#palermo)\\\n",
    "&emsp; [Filling Target Nulls](#usd)\\\n",
    "&emsp; [Filling Surface Nulls based on covered surface](#surface)\\\n",
    "&emsp; [Filling Rooms Nulls based on description](#rooms)\n",
    "\n",
    "\n",
    "3. [Creating more features](#features)"
   ]
  },
  {
   "cell_type": "code",
   "execution_count": 8,
   "metadata": {},
   "outputs": [],
   "source": [
    "import pandas as pd\n",
    "import numpy as np\n",
    "import matplotlib as mpl\n",
    "import  matplotlib.pyplot as plt\n",
    "import seaborn as sns\n",
    "import re\n",
    "import math\n",
    "import warnings\n",
    "warnings.filterwarnings('ignore')"
   ]
  },
  {
   "cell_type": "code",
   "execution_count": 9,
   "metadata": {},
   "outputs": [],
   "source": [
    "data = pd.read_csv (\"properati.csv\").drop(columns = \"Unnamed: 0\")"
   ]
  },
  {
   "cell_type": "markdown",
   "metadata": {},
   "source": [
    "<a id = \"infobasica\"></a>\n",
    "[Return to Menu](#menu)\n",
    "#### Dataset Description\n",
    "\n",
    "In this section i wanted to see what was i dealing with. Nulls, frecuency and descriptive statistics of each feature, dropping columns i am not working with, etc.\n"
   ]
  },
  {
   "cell_type": "code",
   "execution_count": 10,
   "metadata": {},
   "outputs": [
    {
     "name": "stdout",
     "output_type": "stream",
     "text": [
      "<class 'pandas.core.frame.DataFrame'>\n",
      "RangeIndex: 121220 entries, 0 to 121219\n",
      "Data columns (total 25 columns):\n",
      " #   Column                      Non-Null Count   Dtype  \n",
      "---  ------                      --------------   -----  \n",
      " 0   operation                   121220 non-null  object \n",
      " 1   property_type               121220 non-null  object \n",
      " 2   place_name                  121197 non-null  object \n",
      " 3   place_with_parent_names     121220 non-null  object \n",
      " 4   country_name                121220 non-null  object \n",
      " 5   state_name                  121220 non-null  object \n",
      " 6   geonames_id                 102503 non-null  float64\n",
      " 7   lat-lon                     69670 non-null   object \n",
      " 8   lat                         69670 non-null   float64\n",
      " 9   lon                         69670 non-null   float64\n",
      " 10  price                       100810 non-null  float64\n",
      " 11  currency                    100809 non-null  object \n",
      " 12  price_aprox_local_currency  100810 non-null  float64\n",
      " 13  price_aprox_usd             100810 non-null  float64\n",
      " 14  surface_total_in_m2         81892 non-null   float64\n",
      " 15  surface_covered_in_m2       101313 non-null  float64\n",
      " 16  price_usd_per_m2            68617 non-null   float64\n",
      " 17  price_per_m2                87658 non-null   float64\n",
      " 18  floor                       7899 non-null    float64\n",
      " 19  rooms                       47390 non-null   float64\n",
      " 20  expenses                    14262 non-null   float64\n",
      " 21  properati_url               121220 non-null  object \n",
      " 22  description                 121218 non-null  object \n",
      " 23  title                       121220 non-null  object \n",
      " 24  image_thumbnail             118108 non-null  object \n",
      "dtypes: float64(13), object(12)\n",
      "memory usage: 23.1+ MB\n"
     ]
    }
   ],
   "source": [
    "data.info()"
   ]
  },
  {
   "cell_type": "code",
   "execution_count": 11,
   "metadata": {},
   "outputs": [
    {
     "data": {
      "text/html": [
       "<div>\n",
       "<style scoped>\n",
       "    .dataframe tbody tr th:only-of-type {\n",
       "        vertical-align: middle;\n",
       "    }\n",
       "\n",
       "    .dataframe tbody tr th {\n",
       "        vertical-align: top;\n",
       "    }\n",
       "\n",
       "    .dataframe thead th {\n",
       "        text-align: right;\n",
       "    }\n",
       "</style>\n",
       "<table border=\"1\" class=\"dataframe\">\n",
       "  <thead>\n",
       "    <tr style=\"text-align: right;\">\n",
       "      <th></th>\n",
       "      <th>geonames_id</th>\n",
       "      <th>lat</th>\n",
       "      <th>lon</th>\n",
       "      <th>price</th>\n",
       "      <th>price_aprox_local_currency</th>\n",
       "      <th>price_aprox_usd</th>\n",
       "      <th>surface_total_in_m2</th>\n",
       "      <th>surface_covered_in_m2</th>\n",
       "      <th>price_usd_per_m2</th>\n",
       "      <th>price_per_m2</th>\n",
       "      <th>floor</th>\n",
       "      <th>rooms</th>\n",
       "      <th>expenses</th>\n",
       "    </tr>\n",
       "  </thead>\n",
       "  <tbody>\n",
       "    <tr>\n",
       "      <th>count</th>\n",
       "      <td>1.025030e+05</td>\n",
       "      <td>69670.000000</td>\n",
       "      <td>69670.000000</td>\n",
       "      <td>1.008100e+05</td>\n",
       "      <td>1.008100e+05</td>\n",
       "      <td>1.008100e+05</td>\n",
       "      <td>81892.000000</td>\n",
       "      <td>101313.000000</td>\n",
       "      <td>68617.000000</td>\n",
       "      <td>8.765800e+04</td>\n",
       "      <td>7899.000000</td>\n",
       "      <td>47390.000000</td>\n",
       "      <td>1.426200e+04</td>\n",
       "    </tr>\n",
       "    <tr>\n",
       "      <th>mean</th>\n",
       "      <td>3.574442e+06</td>\n",
       "      <td>-34.626210</td>\n",
       "      <td>-59.266290</td>\n",
       "      <td>4.685259e+05</td>\n",
       "      <td>4.229397e+06</td>\n",
       "      <td>2.397006e+05</td>\n",
       "      <td>233.795328</td>\n",
       "      <td>133.050181</td>\n",
       "      <td>2160.086916</td>\n",
       "      <td>6.912216e+03</td>\n",
       "      <td>17.452336</td>\n",
       "      <td>3.080840</td>\n",
       "      <td>5.009234e+03</td>\n",
       "    </tr>\n",
       "    <tr>\n",
       "      <th>std</th>\n",
       "      <td>3.541306e+05</td>\n",
       "      <td>1.980936</td>\n",
       "      <td>2.299922</td>\n",
       "      <td>2.260101e+06</td>\n",
       "      <td>6.904714e+06</td>\n",
       "      <td>3.913239e+05</td>\n",
       "      <td>1782.222147</td>\n",
       "      <td>724.351479</td>\n",
       "      <td>2759.288621</td>\n",
       "      <td>2.837864e+04</td>\n",
       "      <td>120.243621</td>\n",
       "      <td>1.860773</td>\n",
       "      <td>1.204403e+05</td>\n",
       "    </tr>\n",
       "    <tr>\n",
       "      <th>min</th>\n",
       "      <td>3.427208e+06</td>\n",
       "      <td>-54.823985</td>\n",
       "      <td>-75.678931</td>\n",
       "      <td>0.000000e+00</td>\n",
       "      <td>0.000000e+00</td>\n",
       "      <td>0.000000e+00</td>\n",
       "      <td>0.000000</td>\n",
       "      <td>0.000000</td>\n",
       "      <td>0.600000</td>\n",
       "      <td>1.510204e+00</td>\n",
       "      <td>1.000000</td>\n",
       "      <td>1.000000</td>\n",
       "      <td>1.000000e+00</td>\n",
       "    </tr>\n",
       "    <tr>\n",
       "      <th>25%</th>\n",
       "      <td>3.430234e+06</td>\n",
       "      <td>-34.669065</td>\n",
       "      <td>-58.727040</td>\n",
       "      <td>1.100000e+05</td>\n",
       "      <td>1.583309e+06</td>\n",
       "      <td>8.973388e+04</td>\n",
       "      <td>50.000000</td>\n",
       "      <td>45.000000</td>\n",
       "      <td>1218.181818</td>\n",
       "      <td>1.550000e+03</td>\n",
       "      <td>1.000000</td>\n",
       "      <td>2.000000</td>\n",
       "      <td>1.000000e+03</td>\n",
       "    </tr>\n",
       "    <tr>\n",
       "      <th>50%</th>\n",
       "      <td>3.433910e+06</td>\n",
       "      <td>-34.597985</td>\n",
       "      <td>-58.480128</td>\n",
       "      <td>1.850000e+05</td>\n",
       "      <td>2.558452e+06</td>\n",
       "      <td>1.450000e+05</td>\n",
       "      <td>84.000000</td>\n",
       "      <td>75.000000</td>\n",
       "      <td>1800.000000</td>\n",
       "      <td>2.213115e+03</td>\n",
       "      <td>3.000000</td>\n",
       "      <td>3.000000</td>\n",
       "      <td>2.000000e+03</td>\n",
       "    </tr>\n",
       "    <tr>\n",
       "      <th>75%</th>\n",
       "      <td>3.836668e+06</td>\n",
       "      <td>-34.441299</td>\n",
       "      <td>-58.395908</td>\n",
       "      <td>4.200000e+05</td>\n",
       "      <td>4.675792e+06</td>\n",
       "      <td>2.650000e+05</td>\n",
       "      <td>200.000000</td>\n",
       "      <td>150.000000</td>\n",
       "      <td>2486.411765</td>\n",
       "      <td>3.355549e+03</td>\n",
       "      <td>6.000000</td>\n",
       "      <td>4.000000</td>\n",
       "      <td>4.000000e+03</td>\n",
       "    </tr>\n",
       "    <tr>\n",
       "      <th>max</th>\n",
       "      <td>6.948895e+06</td>\n",
       "      <td>4.545843</td>\n",
       "      <td>-53.733330</td>\n",
       "      <td>6.500000e+08</td>\n",
       "      <td>8.212711e+08</td>\n",
       "      <td>4.654544e+07</td>\n",
       "      <td>200000.000000</td>\n",
       "      <td>187000.000000</td>\n",
       "      <td>206333.333333</td>\n",
       "      <td>4.000000e+06</td>\n",
       "      <td>3150.000000</td>\n",
       "      <td>32.000000</td>\n",
       "      <td>1.000150e+07</td>\n",
       "    </tr>\n",
       "  </tbody>\n",
       "</table>\n",
       "</div>"
      ],
      "text/plain": [
       "        geonames_id           lat           lon         price  \\\n",
       "count  1.025030e+05  69670.000000  69670.000000  1.008100e+05   \n",
       "mean   3.574442e+06    -34.626210    -59.266290  4.685259e+05   \n",
       "std    3.541306e+05      1.980936      2.299922  2.260101e+06   \n",
       "min    3.427208e+06    -54.823985    -75.678931  0.000000e+00   \n",
       "25%    3.430234e+06    -34.669065    -58.727040  1.100000e+05   \n",
       "50%    3.433910e+06    -34.597985    -58.480128  1.850000e+05   \n",
       "75%    3.836668e+06    -34.441299    -58.395908  4.200000e+05   \n",
       "max    6.948895e+06      4.545843    -53.733330  6.500000e+08   \n",
       "\n",
       "       price_aprox_local_currency  price_aprox_usd  surface_total_in_m2  \\\n",
       "count                1.008100e+05     1.008100e+05         81892.000000   \n",
       "mean                 4.229397e+06     2.397006e+05           233.795328   \n",
       "std                  6.904714e+06     3.913239e+05          1782.222147   \n",
       "min                  0.000000e+00     0.000000e+00             0.000000   \n",
       "25%                  1.583309e+06     8.973388e+04            50.000000   \n",
       "50%                  2.558452e+06     1.450000e+05            84.000000   \n",
       "75%                  4.675792e+06     2.650000e+05           200.000000   \n",
       "max                  8.212711e+08     4.654544e+07        200000.000000   \n",
       "\n",
       "       surface_covered_in_m2  price_usd_per_m2  price_per_m2        floor  \\\n",
       "count          101313.000000      68617.000000  8.765800e+04  7899.000000   \n",
       "mean              133.050181       2160.086916  6.912216e+03    17.452336   \n",
       "std               724.351479       2759.288621  2.837864e+04   120.243621   \n",
       "min                 0.000000          0.600000  1.510204e+00     1.000000   \n",
       "25%                45.000000       1218.181818  1.550000e+03     1.000000   \n",
       "50%                75.000000       1800.000000  2.213115e+03     3.000000   \n",
       "75%               150.000000       2486.411765  3.355549e+03     6.000000   \n",
       "max            187000.000000     206333.333333  4.000000e+06  3150.000000   \n",
       "\n",
       "              rooms      expenses  \n",
       "count  47390.000000  1.426200e+04  \n",
       "mean       3.080840  5.009234e+03  \n",
       "std        1.860773  1.204403e+05  \n",
       "min        1.000000  1.000000e+00  \n",
       "25%        2.000000  1.000000e+03  \n",
       "50%        3.000000  2.000000e+03  \n",
       "75%        4.000000  4.000000e+03  \n",
       "max       32.000000  1.000150e+07  "
      ]
     },
     "execution_count": 11,
     "metadata": {},
     "output_type": "execute_result"
    }
   ],
   "source": [
    "data.describe()"
   ]
  },
  {
   "cell_type": "code",
   "execution_count": 12,
   "metadata": {},
   "outputs": [
    {
     "data": {
      "text/plain": [
       "operation                     0.000000\n",
       "property_type                 0.000000\n",
       "place_name                    0.000190\n",
       "place_with_parent_names       0.000000\n",
       "country_name                  0.000000\n",
       "state_name                    0.000000\n",
       "geonames_id                   0.154405\n",
       "lat-lon                       0.425260\n",
       "lat                           0.425260\n",
       "lon                           0.425260\n",
       "price                         0.168372\n",
       "currency                      0.168380\n",
       "price_aprox_local_currency    0.168372\n",
       "price_aprox_usd               0.168372\n",
       "surface_total_in_m2           0.324435\n",
       "surface_covered_in_m2         0.164222\n",
       "price_usd_per_m2              0.433947\n",
       "price_per_m2                  0.276869\n",
       "floor                         0.934837\n",
       "rooms                         0.609058\n",
       "expenses                      0.882346\n",
       "properati_url                 0.000000\n",
       "description                   0.000016\n",
       "title                         0.000000\n",
       "image_thumbnail               0.025672\n",
       "dtype: float64"
      ]
     },
     "execution_count": 12,
     "metadata": {},
     "output_type": "execute_result"
    }
   ],
   "source": [
    "#large ammount of nulls\n",
    "data.isnull().sum()/data.shape[0]"
   ]
  },
  {
   "cell_type": "code",
   "execution_count": 13,
   "metadata": {},
   "outputs": [],
   "source": [
    "data = data[data.state_name == \"Capital Federal\"]"
   ]
  },
  {
   "cell_type": "code",
   "execution_count": 14,
   "metadata": {},
   "outputs": [
    {
     "name": "stdout",
     "output_type": "stream",
     "text": [
      "OPERATION\n",
      "\n",
      "sell    32316\n",
      "Name: operation, dtype: int64\n",
      "----------------------------------------------------------------------------------------------------\n",
      "\n",
      "PROPERTY_TYPE\n",
      "\n",
      "apartment    27037\n",
      "house         2087\n",
      "PH            1828\n",
      "store         1364\n",
      "Name: property_type, dtype: int64\n",
      "----------------------------------------------------------------------------------------------------\n",
      "\n",
      "PLACE_NAME\n",
      "\n",
      "Belgrano           2992\n",
      "Palermo            2885\n",
      "Caballito          2273\n",
      "Villa Urquiza      1629\n",
      "Recoleta           1547\n",
      "                   ... \n",
      "Velez Sarsfield      39\n",
      "Villa Real           37\n",
      "Villa Soldati        15\n",
      "Villa Riachuelo       6\n",
      "Catalinas             4\n",
      "Name: place_name, Length: 62, dtype: int64\n",
      "----------------------------------------------------------------------------------------------------\n",
      "\n",
      "COUNTRY_NAME\n",
      "\n",
      "Argentina    32316\n",
      "Name: country_name, dtype: int64\n",
      "----------------------------------------------------------------------------------------------------\n",
      "\n",
      "STATE_NAME\n",
      "\n",
      "Capital Federal    32316\n",
      "Name: state_name, dtype: int64\n",
      "----------------------------------------------------------------------------------------------------\n",
      "\n",
      "LAT\n",
      "\n",
      "-34.642868    259\n",
      "-34.589546    157\n",
      "-34.571150    142\n",
      "-34.562084    116\n",
      "-34.629886     95\n",
      "             ... \n",
      "-34.601200      1\n",
      "-34.581208      1\n",
      "-34.616222      1\n",
      "-34.596733      1\n",
      "-34.589337      1\n",
      "Name: lat, Length: 13884, dtype: int64\n",
      "----------------------------------------------------------------------------------------------------\n",
      "\n",
      "CURRENCY\n",
      "\n",
      "USD    27826\n",
      "ARS     1190\n",
      "PEN        2\n",
      "Name: currency, dtype: int64\n",
      "----------------------------------------------------------------------------------------------------\n",
      "\n",
      "FLOOR\n",
      "\n",
      "1.0      587\n",
      "2.0      489\n",
      "3.0      370\n",
      "4.0      292\n",
      "5.0      232\n",
      "        ... \n",
      "64.0       1\n",
      "410.0      1\n",
      "257.0      1\n",
      "40.0       1\n",
      "433.0      1\n",
      "Name: floor, Length: 85, dtype: int64\n",
      "----------------------------------------------------------------------------------------------------\n",
      "\n",
      "ROOMS\n",
      "\n",
      "1.0     3939\n",
      "2.0     3582\n",
      "3.0     3582\n",
      "4.0     2615\n",
      "5.0     1000\n",
      "6.0      316\n",
      "7.0      159\n",
      "8.0       57\n",
      "9.0       24\n",
      "10.0      23\n",
      "12.0      11\n",
      "11.0       9\n",
      "17.0       3\n",
      "18.0       1\n",
      "15.0       1\n",
      "22.0       1\n",
      "14.0       1\n",
      "13.0       1\n",
      "Name: rooms, dtype: int64\n",
      "----------------------------------------------------------------------------------------------------\n",
      "\n"
     ]
    }
   ],
   "source": [
    "#explore occurrences in each feature\n",
    "for i in data.drop(columns = [\"geonames_id\",'lat-lon','lon',\"price\",\"price_aprox_local_currency\",\"price_aprox_usd\",\"surface_total_in_m2\",\"surface_covered_in_m2\",\"price_usd_per_m2\",\"price_per_m2\",\"expenses\",\"properati_url\",\"description\",\"title\",\"image_thumbnail\",\"place_with_parent_names\"]):\n",
    "    print (i.upper() + \"\\n\")\n",
    "    print(data[i].value_counts())\n",
    "    print(\"-\" * 100 + \"\\n\")"
   ]
  },
  {
   "cell_type": "code",
   "execution_count": 15,
   "metadata": {},
   "outputs": [],
   "source": [
    "data.drop(columns = [\"operation\",\"place_with_parent_names\",\"country_name\",\"lat-lon\",\"floor\",\"expenses\",\"properati_url\",\"image_thumbnail\",\"state_name\"],inplace = True)"
   ]
  },
  {
   "cell_type": "markdown",
   "metadata": {},
   "source": [
    "<a id = \"fillnull\"></a>\n",
    "\n",
    "#### Some data manipulation\n",
    "\n",
    "As we could see in the previous section, the amount of nulls is great.\n",
    "I tried to fill nulls based on other features, as well as using some simple imputations.\n",
    "\n",
    "First i merged all the Palermo variations from place_name to only one palermo\\\n",
    "Then i filled USD prices with another feature, this will be my target variable\\\n",
    "Third i filled total surface nulls using the covered surface column, assuming that if the total surface is null but it has the covered surface, then the minimun total surface will be the covered surface. I also created a feature named uncovered surface, substracting covered surface from total surface\\\n",
    "Lastly i filled the rooms columns. I used regex to get room information from the descriptions of each property.  \n",
    "\n",
    "[Return to Menu](#menu)\n",
    "\n"
   ]
  },
  {
   "cell_type": "markdown",
   "metadata": {},
   "source": [
    "<a id = \"palermo\"></a>\n",
    "Here i merge all Palermos in one Palermo."
   ]
  },
  {
   "cell_type": "code",
   "execution_count": 16,
   "metadata": {},
   "outputs": [],
   "source": [
    "patern_palermo = r'\\.*Palermo Chico\\.*|\\.*Palermo Hollywood\\.*|\\.*Palermo Soho\\.*|\\.*Palermo Viejo\\.*'\n",
    "patern_palermo_regex = re.compile(patern_palermo,re.IGNORECASE)\n",
    "Palermo_Column = data.place_name.apply(lambda x: x if x is np.NaN else patern_palermo_regex.sub('Palermo',x))\n",
    "data[\"Place_Name_Ok\"] = Palermo_Column"
   ]
  },
  {
   "cell_type": "code",
   "execution_count": 17,
   "metadata": {},
   "outputs": [],
   "source": [
    "def Rellenar_NaN (data,serie,nombre_columna,columna_fill):\n",
    "    'creates new column with a new serie. NaNs are filled with another column from the same dataFrame'\n",
    "    data[\"temporal\"] = serie\n",
    "    data[nombre_columna] = data[\"temporal\"].fillna(data[columna_fill])\n",
    "    data.drop(\"temporal\",axis=1,inplace = True)"
   ]
  },
  {
   "cell_type": "markdown",
   "metadata": {},
   "source": [
    "<a id = \"usd\"></a>\n",
    "\n",
    "Here i fill USD prices using the median of prices as well as price_aprox_usd and price columns\\\n",
    "Finally i remove some outliers."
   ]
  },
  {
   "cell_type": "code",
   "execution_count": 18,
   "metadata": {},
   "outputs": [],
   "source": [
    "#Fill USD Prices \n",
    "mask_ARS = data.currency == 'ARS'\n",
    "Caba_Ars = data[['price','price_aprox_usd']][mask_ARS]                                  \n",
    "variableTemporal = Caba_Ars.assign(price=data['price_aprox_usd'])[\"price\"]\n",
    "data[\"temporal\"] = variableTemporal\n",
    "variableTemporal_2 = data.temporal.fillna(data.price)\n",
    "data[\"price_In_USD\"] = variableTemporal_2\n",
    "data.drop(\"temporal\",axis = 1,inplace=True)"
   ]
  },
  {
   "cell_type": "code",
   "execution_count": 19,
   "metadata": {},
   "outputs": [],
   "source": [
    "data.price_In_USD.fillna(value = data.price_In_USD.median(),inplace = True)"
   ]
  },
  {
   "cell_type": "code",
   "execution_count": 53,
   "metadata": {},
   "outputs": [
    {
     "data": {
      "image/png": "[encoded data removed]",
      "text/plain": [
       "<Figure size 432x288 with 1 Axes>"
      ]
     },
     "metadata": {
      "needs_background": "light"
     },
     "output_type": "display_data"
    }
   ],
   "source": [
    "plt.hist(data.price_In_USD[data.price_In_USD < 500000])\n",
    "plt.title('Distribution of prices');"
   ]
  },
  {
   "cell_type": "code",
   "execution_count": 21,
   "metadata": {},
   "outputs": [
    {
     "name": "stdout",
     "output_type": "stream",
     "text": [
      "46545445.0\n",
      "5103.61\n",
      "258168.95052327024\n",
      "157284.0\n"
     ]
    }
   ],
   "source": [
    "print(data.price_In_USD.max())\n",
    "print(data.price_In_USD.min())\n",
    "print(data.price_In_USD.mean())\n",
    "print(data.price_In_USD.median())"
   ]
  },
  {
   "cell_type": "code",
   "execution_count": 55,
   "metadata": {},
   "outputs": [
    {
     "data": {
      "image/png": "[encoded data removed]",
      "text/plain": [
       "<Figure size 432x288 with 1 Axes>"
      ]
     },
     "metadata": {
      "needs_background": "light"
     },
     "output_type": "display_data"
    }
   ],
   "source": [
    "sns.boxplot(y = data.price_In_USD[data.price_In_USD < 800000]).set_title(\"Boxplot of Prices in USD\");"
   ]
  },
  {
   "cell_type": "code",
   "execution_count": 23,
   "metadata": {},
   "outputs": [],
   "source": [
    "#remove some outliers\n",
    "data = data[data.price_In_USD < 800000]"
   ]
  },
  {
   "cell_type": "code",
   "execution_count": 24,
   "metadata": {},
   "outputs": [],
   "source": [
    "data.drop(columns = [\"price\",\"currency\",\"price_aprox_local_currency\",\"price_aprox_usd\",\"price_usd_per_m2\",\"price_per_m2\",\"place_name\"],inplace = True)"
   ]
  },
  {
   "cell_type": "markdown",
   "metadata": {},
   "source": [
    "<a id = \"surface\"></a>\n",
    "\n",
    "Here i simply fill surface with covered surface and imputations, as well as removing some outliers"
   ]
  },
  {
   "cell_type": "code",
   "execution_count": 56,
   "metadata": {},
   "outputs": [
    {
     "data": {
      "image/png": "[encoded data removed]",
      "text/plain": [
       "<Figure size 432x288 with 1 Axes>"
      ]
     },
     "metadata": {
      "needs_background": "light"
     },
     "output_type": "display_data"
    }
   ],
   "source": [
    "plt.hist(data.surface_total_in_m2[data.surface_total_in_m2 < 500])\n",
    "plt.title(\"Distribution of surface\");"
   ]
  },
  {
   "cell_type": "code",
   "execution_count": 57,
   "metadata": {},
   "outputs": [
    {
     "data": {
      "image/png": "[encoded data removed]",
      "text/plain": [
       "<Figure size 432x288 with 1 Axes>"
      ]
     },
     "metadata": {
      "needs_background": "light"
     },
     "output_type": "display_data"
    }
   ],
   "source": [
    "sns.boxplot(y = data.surface_total_in_m2[data.surface_total_in_m2 < 200]).set_title(\"Boxplot of Surface\");"
   ]
  },
  {
   "cell_type": "code",
   "execution_count": 29,
   "metadata": {},
   "outputs": [],
   "source": [
    "#remove outliers\n",
    "data = data[data.surface_total_in_m2 < 200]"
   ]
  },
  {
   "cell_type": "code",
   "execution_count": 31,
   "metadata": {},
   "outputs": [],
   "source": [
    "data.surface_covered_in_m2.fillna(data.surface_total_in_m2.mean(),inplace = True)"
   ]
  },
  {
   "cell_type": "code",
   "execution_count": 32,
   "metadata": {},
   "outputs": [],
   "source": [
    "#create new feature called uncovered Surface\n",
    "data[\"uncovered_surface\"] = (data.surface_total_in_m2 - data.surface_covered_in_m2)"
   ]
  },
  {
   "cell_type": "code",
   "execution_count": 33,
   "metadata": {},
   "outputs": [],
   "source": [
    "data.uncovered_surface[data.uncovered_surface < 0] = 0"
   ]
  },
  {
   "cell_type": "markdown",
   "metadata": {},
   "source": [
    "<a id = \"rooms\"></a>\n",
    "\n",
    "Here i used regex to fill Rooms Nulls.\\\n",
    "I used regex to find both numeric and written values in descriptions."
   ]
  },
  {
   "cell_type": "code",
   "execution_count": 34,
   "metadata": {},
   "outputs": [],
   "source": [
    "patern_rooms_numericos = '(?P<ambientes>\\\\d+\\s?amb|\\d+\\s?ambientes)'\n",
    "regex_rooms_numericos = re.compile(patern_rooms_numericos,flags=re.IGNORECASE)\n",
    "matches_rooms_numericos = data.title.apply(lambda x: x if x is np.NaN else regex_rooms_numericos.search(x))\n",
    "matches_rooms_numericos.fillna(0,inplace=True)\n",
    "maskRooms = matches_rooms_numericos != 0\n",
    "SinNullRoomsNumericos = matches_rooms_numericos[maskRooms]\n",
    "SerieRooms = SinNullRoomsNumericos.apply(lambda x: x.group('ambientes'))\n",
    "PatternEraseAmb = '\\s?ambiente|\\s?amb'\n",
    "cadena_reemplazo = \"\"\n",
    "PatternEraseAmb_regex = re.compile (PatternEraseAmb,flags=re.IGNORECASE)\n",
    "SerieRoomsNumericaLimpia = SerieRooms.apply(lambda x: PatternEraseAmb_regex.sub(cadena_reemplazo, x)).astype(int)"
   ]
  },
  {
   "cell_type": "code",
   "execution_count": 35,
   "metadata": {},
   "outputs": [],
   "source": [
    "Dic_rooms = {'Mono' : 1,'Un' : 1 ,'Dos' : 2 , 'Tres' : 3, \"Cuatro\"  : 4 , \"Cinco\" : 5 , \"Seis\" : 6 , 'Siete' : 7 , \"Ocho\" : 8, \"Nueve\" : 9 , \"Diez\" : 10}\n",
    "data.title\n",
    "patern_rooms_writen = '(?P<ambientes_W>\\\\s[a-z]*\\samb\\s?|\\s[a-z]*\\sambientes\\s?|\\s?monoambiente\\s?)'\n",
    "regex_patern_rooms_writen = re.compile(patern_rooms_writen,flags=re.IGNORECASE)\n",
    "matches_rooms_written = data.title.apply(lambda x: x if x is np.NaN else regex_patern_rooms_writen.search(x))\n",
    "matches_rooms_written.fillna(0,inplace=True)\n",
    "maskRoomsWritten = matches_rooms_written != 0\n",
    "SinNullRoomsWritten = matches_rooms_written[maskRoomsWritten]\n",
    "SerieRoomsWritten = SinNullRoomsWritten.apply(lambda x: x.group('ambientes_W'))\n",
    "PatternEraseAmbWritten = '\\s?ambiente|\\s?amb'\n",
    "cadena_reemplazo = \"\"\n",
    "PatternEraseAmbWritten_regex = re.compile (PatternEraseAmbWritten)\n",
    "SerieRoomsWrittenLimpia = SerieRoomsWritten.apply(lambda x: PatternEraseAmb_regex.sub(cadena_reemplazo, x))\n",
    "PatternEraseAmbWrittenEspacio = ' *'\n",
    "PatternEraseAmbWrittenEspacio_regex = re.compile (PatternEraseAmbWrittenEspacio,flags=re.IGNORECASE)\n",
    "SerieRoomsWrittenLimpiaSinEspacios = SerieRoomsWrittenLimpia.apply(lambda x: PatternEraseAmbWrittenEspacio_regex.sub(cadena_reemplazo, x))"
   ]
  },
  {
   "cell_type": "code",
   "execution_count": 36,
   "metadata": {},
   "outputs": [],
   "source": [
    "#replace strings with values\n",
    "\n",
    "Serie_Cap = SerieRoomsWrittenLimpiaSinEspacios.str.capitalize()\n",
    "for x, y in Dic_rooms.items():\n",
    "    Serie_Cap = Serie_Cap.replace(x, y)     \n",
    "\n",
    "#stay only with numeric values\n",
    "\n",
    "Pattern_Only_Digits = \"(?P<numeros>\\d+)\"\n",
    "Pattern_Only_Digits_regex = re.compile(Pattern_Only_Digits)\n",
    "MatchesNumString = Serie_Cap.apply(str)\n",
    "MatchesNum = MatchesNumString.apply(lambda x: x if x is np.NaN else Pattern_Only_Digits_regex.search(x))\n",
    "MatchesNum.fillna(0,inplace = True)\n",
    "maskRoomsWrittenNumbers = MatchesNum != 0\n",
    "Sin_Null_Num_Written = MatchesNum[maskRoomsWrittenNumbers]\n",
    "SerieRoomsWritten_Num = Sin_Null_Num_Written.apply(lambda x: x.group('numeros')).astype(int)"
   ]
  },
  {
   "cell_type": "code",
   "execution_count": 37,
   "metadata": {},
   "outputs": [],
   "source": [
    "Rellenar_NaN (data,SerieRoomsNumericaLimpia,'Rooms_Clean','rooms')\n",
    "Rellenar_NaN (data,SerieRoomsWritten_Num,'Rooms_Clean_Ok','Rooms_Clean')\n",
    "data.drop('Rooms_Clean', axis = 1 , inplace = True)"
   ]
  },
  {
   "cell_type": "code",
   "execution_count": 38,
   "metadata": {},
   "outputs": [],
   "source": [
    "data.drop(columns = [\"rooms\"],inplace = True)"
   ]
  },
  {
   "cell_type": "code",
   "execution_count": 40,
   "metadata": {},
   "outputs": [],
   "source": [
    "#the rest filled with median\n",
    "data.Rooms_Clean_Ok.fillna(value = data.Rooms_Clean_Ok.median(),inplace = True)"
   ]
  },
  {
   "cell_type": "markdown",
   "metadata": {},
   "source": [
    "<a id = \"features\"></a>\n",
    "\n",
    "#### More Features\n",
    "\n",
    "Finally i add quite a few features from description, to see how they affect price in the next notebook\n",
    "\n",
    "[Return to Menu](#menu)"
   ]
  },
  {
   "cell_type": "code",
   "execution_count": 42,
   "metadata": {},
   "outputs": [],
   "source": [
    "data[\"cochera\"] = data['description'].apply(lambda x: 1 if \"cochera\" in x.lower() or \"garage\" in x.lower() else 0 )"
   ]
  },
  {
   "cell_type": "code",
   "execution_count": 43,
   "metadata": {},
   "outputs": [],
   "source": [
    "data[\"piscina\"] = data['description'].apply(lambda x: 1 if \"piscina\" in x.lower() else 0 )"
   ]
  },
  {
   "cell_type": "code",
   "execution_count": 44,
   "metadata": {},
   "outputs": [],
   "source": [
    "data[\"amenities\"] = data['description'].apply(lambda x: 1 if \"amenities\" in x.lower() else 0 )"
   ]
  },
  {
   "cell_type": "code",
   "execution_count": 45,
   "metadata": {},
   "outputs": [],
   "source": [
    "data[\"suite\"] = data['description'].apply(lambda x: 1 if \"suite\" in x.lower() else 0 )"
   ]
  },
  {
   "cell_type": "code",
   "execution_count": 46,
   "metadata": {},
   "outputs": [],
   "source": [
    "data[\"luminoso\"] = data['description'].apply(lambda x: 1 if \"luminoso\" in x.lower() else 0 )"
   ]
  },
  {
   "cell_type": "code",
   "execution_count": 47,
   "metadata": {},
   "outputs": [],
   "source": [
    "data[\"sin_expensas\"] = data['description'].apply(lambda x: 1 if \"sin expensas\" in x.lower() else 0 )"
   ]
  },
  {
   "cell_type": "code",
   "execution_count": 48,
   "metadata": {},
   "outputs": [],
   "source": [
    "data[\"apto_profesional\"] = data['description'].apply(lambda x: 1 if \"apto profesional\" in x.lower() else 0 )"
   ]
  },
  {
   "cell_type": "code",
   "execution_count": 49,
   "metadata": {},
   "outputs": [],
   "source": [
    "data[\"estrenar\"] = data['description'].apply(lambda x: 1 if \"a estrenar\" in x.lower() else 0 )"
   ]
  },
  {
   "cell_type": "code",
   "execution_count": 50,
   "metadata": {},
   "outputs": [],
   "source": [
    "data[\"contrafrente\"] = data['description'].apply(lambda x: 1 if \"contrafrente \" in x.lower() else 0 )"
   ]
  },
  {
   "cell_type": "code",
   "execution_count": 51,
   "metadata": {},
   "outputs": [],
   "source": [
    "data[\"credito_banco\"] = data['description'].apply(lambda x: 1 if \"apto crédito \" in x.lower() else 0 )"
   ]
  },
  {
   "cell_type": "code",
   "execution_count": 76,
   "metadata": {},
   "outputs": [],
   "source": [
    "data[\"len_description\"] = data['description'].apply(lambda x: len(x) )"
   ]
  },
  {
   "cell_type": "code",
   "execution_count": 82,
   "metadata": {},
   "outputs": [],
   "source": [
    "data.to_csv(\"Data_Clean.csv\")"
   ]
  }
 ],
 "metadata": {
  "kernelspec": {
   "display_name": "Python 3",
   "language": "python",
   "name": "python3"
  },
  "language_info": {
   "codemirror_mode": {
    "name": "ipython",
    "version": 3
   },
   "file_extension": ".py",
   "mimetype": "text/x-python",
   "name": "python",
   "nbconvert_exporter": "python",
   "pygments_lexer": "ipython3",
   "version": "3.8.5"
  }
 },
 "nbformat": 4,
 "nbformat_minor": 5
}
