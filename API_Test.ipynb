{
 "cells": [
  {
   "cell_type": "markdown",
   "id": "declared-heather",
   "metadata": {},
   "source": [
    "This is a test for the API i created. I just created a list of features, make a request with them and get the prediction"
   ]
  },
  {
   "cell_type": "code",
   "execution_count": 51,
   "id": "single-merit",
   "metadata": {},
   "outputs": [],
   "source": [
    "import requests\n",
    "import pandas as pd\n",
    "import numpy as np"
   ]
  },
  {
   "cell_type": "code",
   "execution_count": 52,
   "id": "immediate-package",
   "metadata": {},
   "outputs": [],
   "source": [
    "example = [90.0, 70.0, 20.0, 3.0, 0.0, 0.0, 0.0, 0.0, 0.0, 0.0, 0.0, 1.0, 1.0, 1.0, 1.0, 0.0, 0.0, 0.0, 0.0, 0.0, 0.0, 0.0, 0.0, 0.0, 0.0, 0.0, 0.0, 0.0, 0.0, 0.0, 0.0, 0.0,\n",
    " 0.0, 0.0, 0.0, 0.0, 0.0, 0.0, 0.0, 0.0, 1.0, 0.0, 0.0, 0.0, 0.0, 0.0, 0.0, 0.0, 0.0, 0.0, 0.0, 0.0, 0.0, 0.0, 0.0, 0.0, 0.0, 0.0, 0.0, 0.0, 0.0, 0.0, 0.0, 0.0, 0.0, 0.0,\n",
    " 0.0, 0.0, 0.0, 0.0, 0.0, 0.0, 0.0, 0.0, 0.0,0.0]   "
   ]
  },
  {
   "cell_type": "code",
   "execution_count": 53,
   "id": "thrown-distance",
   "metadata": {},
   "outputs": [],
   "source": [
    "def request (url,features): \n",
    "    \n",
    "    r = requests.post(url,\n",
    "                  json = {'features':[features]})  \n",
    "           \n",
    "    return r.text "
   ]
  },
  {
   "cell_type": "code",
   "execution_count": 54,
   "id": "packed-clinic",
   "metadata": {},
   "outputs": [
    {
     "data": {
      "text/plain": [
       "'156572.128'"
      ]
     },
     "execution_count": 54,
     "metadata": {},
     "output_type": "execute_result"
    }
   ],
   "source": [
    "request('http://localhost:5000/api', features = example)"
   ]
  }
 ],
 "metadata": {
  "kernelspec": {
   "display_name": "Python 3",
   "language": "python",
   "name": "python3"
  },
  "language_info": {
   "codemirror_mode": {
    "name": "ipython",
    "version": 3
   },
   "file_extension": ".py",
   "mimetype": "text/x-python",
   "name": "python",
   "nbconvert_exporter": "python",
   "pygments_lexer": "ipython3",
   "version": "3.7.10"
  }
 },
 "nbformat": 4,
 "nbformat_minor": 5
}
